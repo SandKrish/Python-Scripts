{
  "nbformat": 4,
  "nbformat_minor": 0,
  "metadata": {
    "colab": {
      "provenance": [],
      "authorship_tag": "ABX9TyNmO/6bFgw+G8IKFS9bp57O",
      "include_colab_link": true
    },
    "kernelspec": {
      "name": "python3",
      "display_name": "Python 3"
    },
    "language_info": {
      "name": "python"
    }
  },
  "cells": [
    {
      "cell_type": "markdown",
      "metadata": {
        "id": "view-in-github",
        "colab_type": "text"
      },
      "source": [
        "<a href=\"https://colab.research.google.com/github/SandKrish/Python-Scripts/blob/main/Leap_Year.ipynb\" target=\"_parent\"><img src=\"https://colab.research.google.com/assets/colab-badge.svg\" alt=\"Open In Colab\"/></a>"
      ]
    },
    {
      "cell_type": "markdown",
      "source": [
        " # This notebook checks if a year is Leap Year or not"
      ],
      "metadata": {
        "id": "QcTvslPnZLiB"
      }
    },
    {
      "cell_type": "code",
      "source": [
        "year = input(\"Which year do you want to check? \")\n",
        "if year.isnumeric() and len(year)==4:\n",
        "  year = int(year)\n",
        "else:\n",
        "  print(\"Value of year should be numeric and with format 2022\")\n",
        "\n",
        "if year%4 == 0 :\n",
        "    if(year%100) != 0:\n",
        "        print(f\"{year}, is a Leap year.\")\n",
        "    else:\n",
        "       if(year%100) == 0: \n",
        "           print(f\"{year}, is a Leap year.\")\n",
        "       else:\n",
        "           print(f\"{year}, is not a Leap year.\")\n",
        "else:\n",
        "    print(f\"{year}, is not a Leap year.\")"
      ],
      "metadata": {
        "colab": {
          "base_uri": "https://localhost:8080/"
        },
        "id": "wvUZp8NsZPMo",
        "outputId": "ae4ad3df-50a2-4324-8e5a-3e14fb4f8926"
      },
      "execution_count": 3,
      "outputs": [
        {
          "output_type": "stream",
          "name": "stdout",
          "text": [
            "Which year do you want to check? 2025\n",
            "2025, is not a Leap year.\n"
          ]
        }
      ]
    },
    {
      "cell_type": "code",
      "source": [
        "\n"
      ],
      "metadata": {
        "id": "nbiCnas-Z0CV"
      },
      "execution_count": 3,
      "outputs": []
    }
  ]
}