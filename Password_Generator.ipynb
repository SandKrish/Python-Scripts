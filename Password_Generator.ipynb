{
  "nbformat": 4,
  "nbformat_minor": 0,
  "metadata": {
    "colab": {
      "provenance": [],
      "authorship_tag": "ABX9TyPKHpArFeh4olAYvLysvD9u",
      "include_colab_link": true
    },
    "kernelspec": {
      "name": "python3",
      "display_name": "Python 3"
    },
    "language_info": {
      "name": "python"
    }
  },
  "cells": [
    {
      "cell_type": "markdown",
      "metadata": {
        "id": "view-in-github",
        "colab_type": "text"
      },
      "source": [
        "<a href=\"https://colab.research.google.com/github/SandKrish/Python-Scripts/blob/main/Password_Generator.ipynb\" target=\"_parent\"><img src=\"https://colab.research.google.com/assets/colab-badge.svg\" alt=\"Open In Colab\"/></a>"
      ]
    },
    {
      "cell_type": "markdown",
      "source": [
        "This notebook generates password with number of charaters, symbol and numbers we provide as input."
      ],
      "metadata": {
        "id": "OsZiiacgYTlE"
      }
    },
    {
      "cell_type": "code",
      "execution_count": 1,
      "metadata": {
        "id": "lwrLaSYXSL9k"
      },
      "outputs": [],
      "source": [
        "import random\n",
        "\n",
        "letters = ['a', 'b', 'c', 'd', 'e', 'f', 'g', 'h', 'i', 'j', 'k', 'l', 'm', 'n', 'o', 'p', 'q', 'r', 's', 't', 'u', 'v', 'w', 'x', 'y', 'z', 'A', 'B', 'C', 'D', 'E', 'F', 'G', 'H', 'I', 'J', 'K', 'L', 'M', 'N', 'O', 'P', 'Q', 'R', 'S', 'T', 'U', 'V', 'W', 'X', 'Y', 'Z']\n",
        "numbers = ['0', '1', '2', '3', '4', '5', '6', '7', '8', '9']\n",
        "symbols = ['!', '#', '$', '%', '&', '(', ')', '*', '+']\n",
        "\n",
        "random.shuffle(letters);random.shuffle(numbers);random.shuffle(symbols)"
      ]
    },
    {
      "cell_type": "code",
      "source": [
        "print(\"Welcome to the PyPassword Generator!\")\n",
        "nr_letters= input(\"How many letters would you like in your password?\\n\")\n",
        "if nr_letters.isnumeric():\n",
        "  nr_letters = int(nr_letters)\n",
        "  nr_symbols = input(\"How many symbols would you like?\\n\")\n",
        "  if nr_symbols.isnumeric():\n",
        "    nr_symbols = int(nr_symbols)\n",
        "    nr_numbers = input(\"How many numbers would you like?\\n\")\n",
        "    if nr_numbers.isnumeric():\n",
        "      nr_numbers = int(nr_numbers)\n",
        "    else:\n",
        "     print(\"Enter Numerical Value for, 'How many numbers would you like?'\")\n",
        "  else:\n",
        "    print(\"Enter Numerical Value for, 'How many symbols would you like?'\")\n",
        "else:\n",
        "  print(\"Enter Numerical Value for, 'How many letters would you like in your password?'\")\n",
        "\n",
        "\n",
        "password = ''\n",
        "for i in range(nr_letters):\n",
        "    password += random.choice(letters)\n",
        "for i in range(nr_symbols):\n",
        "    password += random.choice(symbols)\n",
        "for i in range(nr_numbers):\n",
        "    password += random.choice(numbers)\n",
        "\n",
        "\n",
        "mylist = list(password)\n",
        "random.shuffle(mylist)\n",
        "output_password = ''.join(mylist)\n",
        "\n",
        "print(f\"\\n\\nYour Password is {output_password}\")"
      ],
      "metadata": {
        "colab": {
          "base_uri": "https://localhost:8080/"
        },
        "id": "9S0VNHoUSPhY",
        "outputId": "aeb34ecf-74c4-49f6-f816-4a8a2f13289a"
      },
      "execution_count": 2,
      "outputs": [
        {
          "output_type": "stream",
          "name": "stdout",
          "text": [
            "Welcome to the PyPassword Generator!\n",
            "How many letters would you like in your password?\n",
            "8\n",
            "How many symbols would you like?\n",
            "4\n",
            "How many numbers would you like?\n",
            "5\n",
            "\n",
            "\n",
            "Your Password is BFO2$xx0)#iz5#5c4\n"
          ]
        }
      ]
    }
  ]
}