{
 "cells": [
  {
   "cell_type": "markdown",
   "id": "19531419",
   "metadata": {
    "papermill": {
     "duration": 0.014845,
     "end_time": "2023-03-29T11:03:08.522442",
     "exception": false,
     "start_time": "2023-03-29T11:03:08.507597",
     "status": "completed"
    },
    "tags": []
   },
   "source": [
    "[Introduction](#1)\n",
    "\n",
    "[List](#2)\n",
    "\n",
    "* [List Index](#2.1)\n",
    "\n",
    "* [Adding new element to List](#2.2)\n",
    "\n",
    "* [Remove an element from the List](#2.3)\n",
    "\n",
    "* [Sorting](#2.4)\n",
    "\n",
    "* [List Comprehension](#2.5)\n",
    "\n",
    "[Dictionary](#3)\n",
    "\n",
    "* [Accessing Dictionary Elements](#3.1)\n",
    "\n",
    "* [Adding new (key, value) pair](#3.2)\n",
    "\n",
    "* [Updating Existing Value for a key](#3.3)\n",
    "\n",
    "* [Removing Key-Value Pairs](#3.4)\n",
    "\n",
    "* [Sorting](#3.5)\n",
    "\n",
    "* [Dictionary Comprehension](#3.6)\n",
    "\n",
    "\n",
    "\n",
    "\n",
    "\n"
   ]
  },
  {
   "cell_type": "markdown",
   "id": "2f2730d0",
   "metadata": {
    "papermill": {
     "duration": 0.013597,
     "end_time": "2023-03-29T11:03:08.550012",
     "exception": false,
     "start_time": "2023-03-29T11:03:08.536415",
     "status": "completed"
    },
    "tags": []
   },
   "source": [
    "<a id=\"1\"></a> <br>\n",
    "# 1. Introduction \n",
    "\n",
    "In python, there are several built-in data types to store collections of data. These include \n",
    "* List\n",
    "* Tuples\n",
    "* Sets \n",
    "* Dictionary \n",
    "* Array\n",
    "* Deques\n",
    "\n",
    "In this article, we will cover the List in detail.This notebook covers in details of list and dicitonary manipulation along with comprehension."
   ]
  },
  {
   "cell_type": "markdown",
   "id": "1801582f",
   "metadata": {
    "papermill": {
     "duration": 0.014458,
     "end_time": "2023-03-29T11:03:08.578430",
     "exception": false,
     "start_time": "2023-03-29T11:03:08.563972",
     "status": "completed"
    },
    "tags": []
   },
   "source": [
    "<a id=\"2\"></a> <br>\n",
    "# 2. List \n",
    "\n",
    "**A list is an ordered collection of elements, where each element can be of any data type.** \n",
    "\n",
    "Lists are indexed, allow duplicate values, and are **mutable**, that is we can add, remove, or modify elements in the list. \n",
    "\n",
    "A list can be created using square brackets to enclose a comma-separated list of values, which can be numbers, strings, booleans, and other lists. \n",
    "\n",
    "An empty list my_list can be created by using my_list = []."
   ]
  },
  {
   "cell_type": "code",
   "execution_count": 1,
   "id": "a255ffdf",
   "metadata": {
    "_cell_guid": "b1076dfc-b9ad-4769-8c92-a6c4dae69d19",
    "_uuid": "8f2839f25d086af736a60e9eeb907d3b93b6e0e5",
    "execution": {
     "iopub.execute_input": "2023-03-29T11:03:08.610552Z",
     "iopub.status.busy": "2023-03-29T11:03:08.609697Z",
     "iopub.status.idle": "2023-03-29T11:03:08.623421Z",
     "shell.execute_reply": "2023-03-29T11:03:08.621717Z"
    },
    "papermill": {
     "duration": 0.032424,
     "end_time": "2023-03-29T11:03:08.626149",
     "exception": false,
     "start_time": "2023-03-29T11:03:08.593725",
     "status": "completed"
    },
    "tags": []
   },
   "outputs": [
    {
     "name": "stdout",
     "output_type": "stream",
     "text": [
      "my_list is : []\n",
      "type of my list is : <class 'list'>\n"
     ]
    }
   ],
   "source": [
    "my_list = []\n",
    "print(\"my_list is :\", my_list)\n",
    "print(\"type of my list is :\", type(my_list))"
   ]
  },
  {
   "cell_type": "markdown",
   "id": "a5614a6b",
   "metadata": {
    "papermill": {
     "duration": 0.013768,
     "end_time": "2023-03-29T11:03:08.654146",
     "exception": false,
     "start_time": "2023-03-29T11:03:08.640378",
     "status": "completed"
    },
    "tags": []
   },
   "source": [
    "<a id=\"2.1\"></a> <br>\n",
    "##  2.1. List Index\n",
    "\n",
    "**The elements in the list are indexed, the index of the first element will be zero, and the last element by an index of -1**.\n",
    "\n",
    "If I have a list of integers as my_list = [10, 20, 30, 40, 50].\n",
    "* 10 will have an index of 0, and 20 will have 1 and it goes like that. \n",
    "* Element 50 can be retrieved by using index -1."
   ]
  },
  {
   "cell_type": "code",
   "execution_count": 2,
   "id": "0a944a2a",
   "metadata": {
    "execution": {
     "iopub.execute_input": "2023-03-29T11:03:08.684207Z",
     "iopub.status.busy": "2023-03-29T11:03:08.683854Z",
     "iopub.status.idle": "2023-03-29T11:03:08.690346Z",
     "shell.execute_reply": "2023-03-29T11:03:08.688801Z"
    },
    "papermill": {
     "duration": 0.024315,
     "end_time": "2023-03-29T11:03:08.692613",
     "exception": false,
     "start_time": "2023-03-29T11:03:08.668298",
     "status": "completed"
    },
    "tags": []
   },
   "outputs": [
    {
     "name": "stdout",
     "output_type": "stream",
     "text": [
      "Element at index 0 is : 10\n",
      "Last element in list is : 50\n"
     ]
    }
   ],
   "source": [
    "my_list = [10, 20, 30, 40, 50]\n",
    "print(\"Element at index 0 is :\", my_list[0])\n",
    "print(\"Last element in list is :\", my_list[-1])"
   ]
  },
  {
   "cell_type": "markdown",
   "id": "a33818ff",
   "metadata": {
    "papermill": {
     "duration": 0.014171,
     "end_time": "2023-03-29T11:03:08.721196",
     "exception": false,
     "start_time": "2023-03-29T11:03:08.707025",
     "status": "completed"
    },
    "tags": []
   },
   "source": [
    "**index()** : The index of any element can be obtained by using index()."
   ]
  },
  {
   "cell_type": "code",
   "execution_count": 3,
   "id": "1e59f947",
   "metadata": {
    "execution": {
     "iopub.execute_input": "2023-03-29T11:03:08.751655Z",
     "iopub.status.busy": "2023-03-29T11:03:08.751287Z",
     "iopub.status.idle": "2023-03-29T11:03:08.758850Z",
     "shell.execute_reply": "2023-03-29T11:03:08.756282Z"
    },
    "papermill": {
     "duration": 0.026647,
     "end_time": "2023-03-29T11:03:08.762185",
     "exception": false,
     "start_time": "2023-03-29T11:03:08.735538",
     "status": "completed"
    },
    "tags": []
   },
   "outputs": [
    {
     "name": "stdout",
     "output_type": "stream",
     "text": [
      "Index of element 30 is : 2\n"
     ]
    }
   ],
   "source": [
    "print(\"Index of element 30 is :\", my_list.index(30))"
   ]
  },
  {
   "cell_type": "markdown",
   "id": "020753ca",
   "metadata": {
    "papermill": {
     "duration": 0.014178,
     "end_time": "2023-03-29T11:03:08.791061",
     "exception": false,
     "start_time": "2023-03-29T11:03:08.776883",
     "status": "completed"
    },
    "tags": []
   },
   "source": [
    "**Retriving elements of list using index** :-  The first two elements can be retrieved by using either of two options :\n",
    "\n",
    "   * my_list[0:2]\n",
    "    \n",
    "   * my_list[:2]. \n",
    "    \n",
    "  In both cases, the element will start from 0 indexes till index 2, Index 2 will not be included."
   ]
  },
  {
   "cell_type": "code",
   "execution_count": 4,
   "id": "468e9a62",
   "metadata": {
    "execution": {
     "iopub.execute_input": "2023-03-29T11:03:08.822024Z",
     "iopub.status.busy": "2023-03-29T11:03:08.821610Z",
     "iopub.status.idle": "2023-03-29T11:03:08.827393Z",
     "shell.execute_reply": "2023-03-29T11:03:08.825908Z"
    },
    "papermill": {
     "duration": 0.024055,
     "end_time": "2023-03-29T11:03:08.829566",
     "exception": false,
     "start_time": "2023-03-29T11:03:08.805511",
     "status": "completed"
    },
    "tags": []
   },
   "outputs": [
    {
     "name": "stdout",
     "output_type": "stream",
     "text": [
      "Elements from index 0 till index 2 is : [10, 20]\n",
      "Elements from index 0 till index 2 is : [10, 20]\n"
     ]
    }
   ],
   "source": [
    "print(\"Elements from index 0 till index 2 is :\", my_list[:2])\n",
    "print(\"Elements from index 0 till index 2 is :\", my_list[0:2])"
   ]
  },
  {
   "cell_type": "markdown",
   "id": "97a198dd",
   "metadata": {
    "papermill": {
     "duration": 0.0143,
     "end_time": "2023-03-29T11:03:08.858219",
     "exception": false,
     "start_time": "2023-03-29T11:03:08.843919",
     "status": "completed"
    },
    "tags": []
   },
   "source": [
    "<a id=\"2.2\"></a> <br>\n",
    "##  2.2. Adding new element to List\n",
    "\n",
    "An element can be added to an list by using :\n",
    " * By using **append()**\n",
    " \n",
    " * By **Addition Method**\n",
    " \n",
    " * By using **insert()**"
   ]
  },
  {
   "cell_type": "markdown",
   "id": "a9d59884",
   "metadata": {
    "papermill": {
     "duration": 0.014364,
     "end_time": "2023-03-29T11:03:08.887085",
     "exception": false,
     "start_time": "2023-03-29T11:03:08.872721",
     "status": "completed"
    },
    "tags": []
   },
   "source": [
    "By using append(), we can add the element at the end of the list by using the function append()."
   ]
  },
  {
   "cell_type": "code",
   "execution_count": 5,
   "id": "46d4a321",
   "metadata": {
    "execution": {
     "iopub.execute_input": "2023-03-29T11:03:08.921147Z",
     "iopub.status.busy": "2023-03-29T11:03:08.920443Z",
     "iopub.status.idle": "2023-03-29T11:03:08.928218Z",
     "shell.execute_reply": "2023-03-29T11:03:08.926303Z"
    },
    "papermill": {
     "duration": 0.029234,
     "end_time": "2023-03-29T11:03:08.930915",
     "exception": false,
     "start_time": "2023-03-29T11:03:08.901681",
     "status": "completed"
    },
    "tags": []
   },
   "outputs": [
    {
     "name": "stdout",
     "output_type": "stream",
     "text": [
      "My new list is : [10, 20, 30, 40, 50, 60]\n"
     ]
    }
   ],
   "source": [
    "my_list.append(60)\n",
    "print(\"My new list is :\", my_list)"
   ]
  },
  {
   "cell_type": "markdown",
   "id": "0b3500bd",
   "metadata": {
    "papermill": {
     "duration": 0.017973,
     "end_time": "2023-03-29T11:03:08.964448",
     "exception": false,
     "start_time": "2023-03-29T11:03:08.946475",
     "status": "completed"
    },
    "tags": []
   },
   "source": [
    "**By using the addition of a list** , if I want to add 70 to the existing list, I have to add 70 by using a square bracket. While adding an integer to a list, we have to make the integer as a list, else we will get a type error."
   ]
  },
  {
   "cell_type": "code",
   "execution_count": 6,
   "id": "618e0380",
   "metadata": {
    "execution": {
     "iopub.execute_input": "2023-03-29T11:03:08.995858Z",
     "iopub.status.busy": "2023-03-29T11:03:08.995482Z",
     "iopub.status.idle": "2023-03-29T11:03:09.002516Z",
     "shell.execute_reply": "2023-03-29T11:03:09.000301Z"
    },
    "papermill": {
     "duration": 0.026038,
     "end_time": "2023-03-29T11:03:09.005631",
     "exception": false,
     "start_time": "2023-03-29T11:03:08.979593",
     "status": "completed"
    },
    "tags": []
   },
   "outputs": [
    {
     "name": "stdout",
     "output_type": "stream",
     "text": [
      "My new list is : [10, 20, 30, 40, 50, 60, 70]\n"
     ]
    }
   ],
   "source": [
    "my_list += [70]\n",
    "print(\"My new list is :\", my_list)"
   ]
  },
  {
   "cell_type": "markdown",
   "id": "11bdec92",
   "metadata": {
    "papermill": {
     "duration": 0.014372,
     "end_time": "2023-03-29T11:03:09.035515",
     "exception": false,
     "start_time": "2023-03-29T11:03:09.021143",
     "status": "completed"
    },
    "tags": []
   },
   "source": [
    "But if we add a string to the existing list by using the addition method, the string will be converted to a list of characters and then it will be added to the list, in case we are having space between characters, **then the number space will be added as ‘ ‘**. \n",
    "\n",
    "If I am trying to add ‘my list’ to[10, 20, 30, 40, 50, 60, 70] with 3 spaces in between ‘my’ and ‘list’ then the list formed will be [10, 20, 30, 40, 50, 60, 70, ‘m’, ‘y’, ‘ ‘, ‘ ‘, ‘ ‘, ‘l’, ‘i’, ‘s’, ‘t’]"
   ]
  },
  {
   "cell_type": "code",
   "execution_count": 7,
   "id": "cd4d9f04",
   "metadata": {
    "execution": {
     "iopub.execute_input": "2023-03-29T11:03:09.066758Z",
     "iopub.status.busy": "2023-03-29T11:03:09.066378Z",
     "iopub.status.idle": "2023-03-29T11:03:09.072107Z",
     "shell.execute_reply": "2023-03-29T11:03:09.070642Z"
    },
    "papermill": {
     "duration": 0.023825,
     "end_time": "2023-03-29T11:03:09.074310",
     "exception": false,
     "start_time": "2023-03-29T11:03:09.050485",
     "status": "completed"
    },
    "tags": []
   },
   "outputs": [
    {
     "name": "stdout",
     "output_type": "stream",
     "text": [
      "My new list  with strings added is : [10, 20, 30, 40, 50, 60, 70, 'm', 'y', ' ', ' ', ' ', 'l', 'i', 's', 't']\n"
     ]
    }
   ],
   "source": [
    "my_list += 'my   list'\n",
    "print(\"My new list  with strings added is :\", my_list)"
   ]
  },
  {
   "cell_type": "markdown",
   "id": "6b7ebdd9",
   "metadata": {
    "papermill": {
     "duration": 0.016207,
     "end_time": "2023-03-29T11:03:09.107119",
     "exception": false,
     "start_time": "2023-03-29T11:03:09.090912",
     "status": "completed"
    },
    "tags": []
   },
   "source": [
    "If we want to add an element at a specific index then we can use **insert(index, element_to_add)**. \n",
    "\n",
    "For example, if I want to add an element 25 to my_list [10, 20, 30, 40, 50, 60, 70] at the 3rd position, that is at index 2, it can be done by using my_list.insert(2, 25)."
   ]
  },
  {
   "cell_type": "code",
   "execution_count": 8,
   "id": "4d5ebc0d",
   "metadata": {
    "execution": {
     "iopub.execute_input": "2023-03-29T11:03:09.139058Z",
     "iopub.status.busy": "2023-03-29T11:03:09.138617Z",
     "iopub.status.idle": "2023-03-29T11:03:09.144286Z",
     "shell.execute_reply": "2023-03-29T11:03:09.143112Z"
    },
    "papermill": {
     "duration": 0.024379,
     "end_time": "2023-03-29T11:03:09.146659",
     "exception": false,
     "start_time": "2023-03-29T11:03:09.122280",
     "status": "completed"
    },
    "tags": []
   },
   "outputs": [
    {
     "name": "stdout",
     "output_type": "stream",
     "text": [
      "My new list is after inserting 25 at index 2 is : [10, 20, 25, 30, 40, 50, 60, 70, 'm', 'y', ' ', ' ', ' ', 'l', 'i', 's', 't']\n"
     ]
    }
   ],
   "source": [
    "my_list.insert(2, 25)\n",
    "print(\"My new list is after inserting 25 at index 2 is :\", my_list)"
   ]
  },
  {
   "cell_type": "markdown",
   "id": "37b762f2",
   "metadata": {
    "papermill": {
     "duration": 0.016079,
     "end_time": "2023-03-29T11:03:09.177958",
     "exception": false,
     "start_time": "2023-03-29T11:03:09.161879",
     "status": "completed"
    },
    "tags": []
   },
   "source": [
    "<a id=\"2.3\"></a> <br>\n",
    "##  2.3. Remove an element from the List\n",
    "\n",
    "An element can be removed from a list using:\n",
    "* pop()\n",
    "\n",
    "* remove()\n",
    "\n",
    "**pop()** is used when the index of the element to be removed is known, whereas **remove()** is used when the element which is to be removed is only known.\n",
    "\n",
    "Using pop() to remove the last element of the list."
   ]
  },
  {
   "cell_type": "code",
   "execution_count": 9,
   "id": "cbe7f4cd",
   "metadata": {
    "execution": {
     "iopub.execute_input": "2023-03-29T11:03:09.210153Z",
     "iopub.status.busy": "2023-03-29T11:03:09.208794Z",
     "iopub.status.idle": "2023-03-29T11:03:09.215404Z",
     "shell.execute_reply": "2023-03-29T11:03:09.214216Z"
    },
    "papermill": {
     "duration": 0.024613,
     "end_time": "2023-03-29T11:03:09.217502",
     "exception": false,
     "start_time": "2023-03-29T11:03:09.192889",
     "status": "completed"
    },
    "tags": []
   },
   "outputs": [
    {
     "name": "stdout",
     "output_type": "stream",
     "text": [
      "My Original is : [10, 20, 25, 30, 40, 50, 60, 70, 'm', 'y', ' ', ' ', ' ', 'l', 'i', 's', 't']\n",
      "My list after removing last element [10, 20, 25, 30, 40, 50, 60, 70, 'm', 'y', ' ', ' ', ' ', 'l', 'i', 's']\n"
     ]
    }
   ],
   "source": [
    "print(\"My Original is :\", my_list)\n",
    "my_list.pop(-1)\n",
    "print(\"My list after removing last element\", my_list)"
   ]
  },
  {
   "cell_type": "markdown",
   "id": "5d2573d7",
   "metadata": {
    "papermill": {
     "duration": 0.014609,
     "end_time": "2023-03-29T11:03:09.247581",
     "exception": false,
     "start_time": "2023-03-29T11:03:09.232972",
     "status": "completed"
    },
    "tags": []
   },
   "source": [
    "Using remove(), to remove 25 from my_list."
   ]
  },
  {
   "cell_type": "code",
   "execution_count": 10,
   "id": "d0a4b109",
   "metadata": {
    "execution": {
     "iopub.execute_input": "2023-03-29T11:03:09.278678Z",
     "iopub.status.busy": "2023-03-29T11:03:09.278347Z",
     "iopub.status.idle": "2023-03-29T11:03:09.284910Z",
     "shell.execute_reply": "2023-03-29T11:03:09.283159Z"
    },
    "papermill": {
     "duration": 0.024796,
     "end_time": "2023-03-29T11:03:09.287094",
     "exception": false,
     "start_time": "2023-03-29T11:03:09.262298",
     "status": "completed"
    },
    "tags": []
   },
   "outputs": [
    {
     "name": "stdout",
     "output_type": "stream",
     "text": [
      "My Original is : [10, 20, 25, 30, 40, 50, 60, 70, 'm', 'y', ' ', ' ', ' ', 'l', 'i', 's']\n",
      "My list after removing element 25 is : [10, 20, 30, 40, 50, 60, 70, 'm', 'y', ' ', ' ', ' ', 'l', 'i', 's']\n"
     ]
    }
   ],
   "source": [
    "print(\"My Original is :\", my_list)\n",
    "my_list.remove(25)\n",
    "print(\"My list after removing element 25 is :\", my_list)"
   ]
  },
  {
   "cell_type": "markdown",
   "id": "bf0b7382",
   "metadata": {
    "papermill": {
     "duration": 0.01443,
     "end_time": "2023-03-29T11:03:09.316084",
     "exception": false,
     "start_time": "2023-03-29T11:03:09.301654",
     "status": "completed"
    },
    "tags": []
   },
   "source": [
    "<a id=\"2.4\"></a> <br>\n",
    "##  2.4. Sorting"
   ]
  },
  {
   "cell_type": "markdown",
   "id": "2fad67c8",
   "metadata": {
    "papermill": {
     "duration": 0.014448,
     "end_time": "2023-03-29T11:03:09.345098",
     "exception": false,
     "start_time": "2023-03-29T11:03:09.330650",
     "status": "completed"
    },
    "tags": []
   },
   "source": [
    "A list can be sorted ascending or desccending order.To sort an unsorted list we can use\n",
    " * sort() \n",
    " \n",
    " * sorted()\n"
   ]
  },
  {
   "cell_type": "markdown",
   "id": "a04233d8",
   "metadata": {
    "papermill": {
     "duration": 0.014709,
     "end_time": "2023-03-29T11:03:09.374758",
     "exception": false,
     "start_time": "2023-03-29T11:03:09.360049",
     "status": "completed"
    },
    "tags": []
   },
   "source": [
    "sort() which will sort() the original list, whereas if we use sorted(my_list) will return a sorted list, but will not modify the original list. To get a sorted list from the latter method, we have to assign it to a new list.\n",
    "\n",
    "## sort in ascending order:\n",
    "\n",
    "By simply using my_list.sort(), we can sort the list in ascending order, because the default value of the reverse parameter is False, or you can also use my_list.sort(reverse = False). For example, unsorted lists [4, 6, 1, 4, 1, 22, 78, 54, 39, 1, 20], can be sorted as below."
   ]
  },
  {
   "cell_type": "code",
   "execution_count": 11,
   "id": "853fadc0",
   "metadata": {
    "execution": {
     "iopub.execute_input": "2023-03-29T11:03:09.406152Z",
     "iopub.status.busy": "2023-03-29T11:03:09.405754Z",
     "iopub.status.idle": "2023-03-29T11:03:09.412252Z",
     "shell.execute_reply": "2023-03-29T11:03:09.410483Z"
    },
    "papermill": {
     "duration": 0.026388,
     "end_time": "2023-03-29T11:03:09.415813",
     "exception": false,
     "start_time": "2023-03-29T11:03:09.389425",
     "status": "completed"
    },
    "tags": []
   },
   "outputs": [
    {
     "name": "stdout",
     "output_type": "stream",
     "text": [
      "My Original is : [4, 6, 1, 4, 1, 22, 78, 54, 39, 1, 20]\n",
      "My Sorted Listed is : [1, 1, 1, 4, 4, 6, 20, 22, 39, 54, 78]\n"
     ]
    }
   ],
   "source": [
    "my_list = [4, 6, 1, 4, 1, 22, 78, 54, 39, 1, 20]\n",
    "print(\"My Original is :\", my_list)\n",
    "my_list.sort()\n",
    "print(\"My Sorted Listed is :\", my_list)"
   ]
  },
  {
   "cell_type": "markdown",
   "id": "a7e2610d",
   "metadata": {
    "papermill": {
     "duration": 0.015584,
     "end_time": "2023-03-29T11:03:09.447602",
     "exception": false,
     "start_time": "2023-03-29T11:03:09.432018",
     "status": "completed"
    },
    "tags": []
   },
   "source": [
    "If we have a string, then it will sort using the alphabetic order."
   ]
  },
  {
   "cell_type": "code",
   "execution_count": 12,
   "id": "0c1759a7",
   "metadata": {
    "execution": {
     "iopub.execute_input": "2023-03-29T11:03:09.480009Z",
     "iopub.status.busy": "2023-03-29T11:03:09.479609Z",
     "iopub.status.idle": "2023-03-29T11:03:09.487411Z",
     "shell.execute_reply": "2023-03-29T11:03:09.484782Z"
    },
    "papermill": {
     "duration": 0.028127,
     "end_time": "2023-03-29T11:03:09.491194",
     "exception": false,
     "start_time": "2023-03-29T11:03:09.463067",
     "status": "completed"
    },
    "tags": []
   },
   "outputs": [
    {
     "name": "stdout",
     "output_type": "stream",
     "text": [
      "My Original Fruit Listed is : ['apple', 'mangoes', 'banana', 'strawberry', 'pineapple']\n",
      "My Sorted Fruit Listed is : ['apple', 'banana', 'mangoes', 'pineapple', 'strawberry']\n"
     ]
    }
   ],
   "source": [
    "fruit_list = ['apple', 'mangoes', 'banana', 'strawberry', 'pineapple']\n",
    "print(\"My Original Fruit Listed is :\", fruit_list)\n",
    "fruit_list.sort()\n",
    "print(\"My Sorted Fruit Listed is :\", fruit_list)"
   ]
  },
  {
   "cell_type": "markdown",
   "id": "eb763791",
   "metadata": {
    "papermill": {
     "duration": 0.016247,
     "end_time": "2023-03-29T11:03:09.523766",
     "exception": false,
     "start_time": "2023-03-29T11:03:09.507519",
     "status": "completed"
    },
    "tags": []
   },
   "source": [
    "But when we use **sorted(my_list)** , the original list will not be modified, we have assigned, it to a new_list"
   ]
  },
  {
   "cell_type": "code",
   "execution_count": 13,
   "id": "8e533e22",
   "metadata": {
    "execution": {
     "iopub.execute_input": "2023-03-29T11:03:09.558978Z",
     "iopub.status.busy": "2023-03-29T11:03:09.558426Z",
     "iopub.status.idle": "2023-03-29T11:03:09.572106Z",
     "shell.execute_reply": "2023-03-29T11:03:09.570625Z"
    },
    "papermill": {
     "duration": 0.035945,
     "end_time": "2023-03-29T11:03:09.575178",
     "exception": false,
     "start_time": "2023-03-29T11:03:09.539233",
     "status": "completed"
    },
    "tags": []
   },
   "outputs": [
    {
     "name": "stdout",
     "output_type": "stream",
     "text": [
      "My Original is : [4, 6, 1, 4, 1, 22, 78, 54, 39, 1, 20]\n"
     ]
    },
    {
     "data": {
      "text/plain": [
       "[1, 1, 1, 4, 4, 6, 20, 22, 39, 54, 78]"
      ]
     },
     "execution_count": 13,
     "metadata": {},
     "output_type": "execute_result"
    }
   ],
   "source": [
    "my_list = [4, 6, 1, 4, 1, 22, 78, 54, 39, 1, 20]\n",
    "print(\"My Original is :\", my_list)\n",
    "sorted(my_list)"
   ]
  },
  {
   "cell_type": "code",
   "execution_count": 14,
   "id": "eae1ebab",
   "metadata": {
    "execution": {
     "iopub.execute_input": "2023-03-29T11:03:09.611955Z",
     "iopub.status.busy": "2023-03-29T11:03:09.611512Z",
     "iopub.status.idle": "2023-03-29T11:03:09.618687Z",
     "shell.execute_reply": "2023-03-29T11:03:09.617068Z"
    },
    "papermill": {
     "duration": 0.028923,
     "end_time": "2023-03-29T11:03:09.622152",
     "exception": false,
     "start_time": "2023-03-29T11:03:09.593229",
     "status": "completed"
    },
    "tags": []
   },
   "outputs": [
    {
     "name": "stdout",
     "output_type": "stream",
     "text": [
      "My list is not sorted using sorted() : [4, 6, 1, 4, 1, 22, 78, 54, 39, 1, 20]\n",
      "My List assigned to new list : [1, 1, 1, 4, 4, 6, 20, 22, 39, 54, 78]\n"
     ]
    }
   ],
   "source": [
    "print(\"My list is not sorted using sorted() :\", my_list)\n",
    "my_new_list = sorted(my_list)\n",
    "print(\"My List assigned to new list :\", my_new_list)"
   ]
  },
  {
   "cell_type": "markdown",
   "id": "acef4f4a",
   "metadata": {
    "papermill": {
     "duration": 0.014887,
     "end_time": "2023-03-29T11:03:09.653113",
     "exception": false,
     "start_time": "2023-03-29T11:03:09.638226",
     "status": "completed"
    },
    "tags": []
   },
   "source": [
    "Here my_new_list is sorted, as sorted() is assigned to it, where as when we print original list it will be unsorted, even if sorted() is used before printing."
   ]
  },
  {
   "cell_type": "markdown",
   "id": "575552bf",
   "metadata": {
    "papermill": {
     "duration": 0.015212,
     "end_time": "2023-03-29T11:03:09.684094",
     "exception": false,
     "start_time": "2023-03-29T11:03:09.668882",
     "status": "completed"
    },
    "tags": []
   },
   "source": [
    "## Sort in descending order:\n",
    "\n",
    "To sort in descending order we have to set the parameter **reverse as True**. For the above list, we can sort in descending order as below."
   ]
  },
  {
   "cell_type": "code",
   "execution_count": 15,
   "id": "d8869512",
   "metadata": {
    "execution": {
     "iopub.execute_input": "2023-03-29T11:03:09.719014Z",
     "iopub.status.busy": "2023-03-29T11:03:09.718639Z",
     "iopub.status.idle": "2023-03-29T11:03:09.726235Z",
     "shell.execute_reply": "2023-03-29T11:03:09.724269Z"
    },
    "papermill": {
     "duration": 0.02877,
     "end_time": "2023-03-29T11:03:09.729546",
     "exception": false,
     "start_time": "2023-03-29T11:03:09.700776",
     "status": "completed"
    },
    "tags": []
   },
   "outputs": [
    {
     "name": "stdout",
     "output_type": "stream",
     "text": [
      "My Original is : [4, 6, 1, 4, 1, 22, 78, 54, 39, 1, 20]\n",
      "My reverse sorted list : [78, 54, 39, 22, 20, 6, 4, 4, 1, 1, 1]\n",
      "My Original Fruit Listed is : ['apple', 'mangoes', 'banana', 'strawberry', 'pineapple']\n",
      "My Reverse Sorted Fruit Listed is : ['strawberry', 'pineapple', 'mangoes', 'banana', 'apple']\n"
     ]
    }
   ],
   "source": [
    "my_list = [4, 6, 1, 4, 1, 22, 78, 54, 39, 1, 20]\n",
    "print(\"My Original is :\", my_list)\n",
    "my_list.sort(reverse=True)\n",
    "print(\"My reverse sorted list :\", my_list)\n",
    "fruit_list = ['apple', 'mangoes', 'banana', 'strawberry', 'pineapple']\n",
    "print(\"My Original Fruit Listed is :\", fruit_list)\n",
    "fruit_list.sort(reverse=True)\n",
    "print(\"My Reverse Sorted Fruit Listed is :\", fruit_list)"
   ]
  },
  {
   "cell_type": "markdown",
   "id": "b6b946a4",
   "metadata": {
    "papermill": {
     "duration": 0.015383,
     "end_time": "2023-03-29T11:03:09.761935",
     "exception": false,
     "start_time": "2023-03-29T11:03:09.746552",
     "status": "completed"
    },
    "tags": []
   },
   "source": [
    "<a id=\"2.5\"></a> <br>\n",
    "##  2.5. List Comprehension"
   ]
  },
  {
   "cell_type": "markdown",
   "id": "afce5d93",
   "metadata": {
    "papermill": {
     "duration": 0.015212,
     "end_time": "2023-03-29T11:03:09.792842",
     "exception": false,
     "start_time": "2023-03-29T11:03:09.777630",
     "status": "completed"
    },
    "tags": []
   },
   "source": [
    "List comprehension is a very effective way to create an entirely new list or list based on the values of an existing list.\n",
    "\n",
    "If we want to create a new list of integers from 0 to 10, we have to write a for loop to append each integer as below."
   ]
  },
  {
   "cell_type": "code",
   "execution_count": 16,
   "id": "b068a703",
   "metadata": {
    "execution": {
     "iopub.execute_input": "2023-03-29T11:03:09.826327Z",
     "iopub.status.busy": "2023-03-29T11:03:09.825915Z",
     "iopub.status.idle": "2023-03-29T11:03:09.833340Z",
     "shell.execute_reply": "2023-03-29T11:03:09.831500Z"
    },
    "papermill": {
     "duration": 0.027917,
     "end_time": "2023-03-29T11:03:09.836465",
     "exception": false,
     "start_time": "2023-03-29T11:03:09.808548",
     "status": "completed"
    },
    "tags": []
   },
   "outputs": [
    {
     "name": "stdout",
     "output_type": "stream",
     "text": [
      "My New List Is :  [0, 1, 2, 3, 4, 5, 6, 7, 8, 9]\n"
     ]
    }
   ],
   "source": [
    "mylist = []\n",
    "for i in range(10):\n",
    "    mylist.append(i)\n",
    "print(\"My New List Is : \", mylist)"
   ]
  },
  {
   "attachments": {
    "a2d48d63-9674-4fcb-9650-b7a15696443a.png": {
     "image/png": "[encoded data removed]"
    }
   },
   "cell_type": "markdown",
   "id": "903c1420",
   "metadata": {
    "papermill": {
     "duration": 0.017942,
     "end_time": "2023-03-29T11:03:09.871476",
     "exception": false,
     "start_time": "2023-03-29T11:03:09.853534",
     "status": "completed"
    },
    "tags": []
   },
   "source": [
    "Whereas if we use list comprehension we can write the code in one single line. The list comprehension format is\n",
    "\n",
    "![image.png](attachment:a2d48d63-9674-4fcb-9650-b7a15696443a.png)"
   ]
  },
  {
   "cell_type": "markdown",
   "id": "3b32b6e6",
   "metadata": {
    "papermill": {
     "duration": 0.016811,
     "end_time": "2023-03-29T11:03:09.908954",
     "exception": false,
     "start_time": "2023-03-29T11:03:09.892143",
     "status": "completed"
    },
    "tags": []
   },
   "source": [
    "To create a range of integers from 0 to 10, we can use list compression."
   ]
  },
  {
   "cell_type": "code",
   "execution_count": 17,
   "id": "df8ab223",
   "metadata": {
    "execution": {
     "iopub.execute_input": "2023-03-29T11:03:09.946038Z",
     "iopub.status.busy": "2023-03-29T11:03:09.945546Z",
     "iopub.status.idle": "2023-03-29T11:03:09.952638Z",
     "shell.execute_reply": "2023-03-29T11:03:09.950875Z"
    },
    "papermill": {
     "duration": 0.028401,
     "end_time": "2023-03-29T11:03:09.955635",
     "exception": false,
     "start_time": "2023-03-29T11:03:09.927234",
     "status": "completed"
    },
    "tags": []
   },
   "outputs": [
    {
     "name": "stdout",
     "output_type": "stream",
     "text": [
      "My New List With List Comprehension :  [0, 1, 2, 3, 4, 5, 6, 7, 8, 9]\n"
     ]
    }
   ],
   "source": [
    "mylist = [i for i in range(10)]\n",
    "print(\"My New List With List Comprehension : \", mylist)"
   ]
  },
  {
   "attachments": {
    "f7779597-ae9d-4da5-b538-3a538c9af085.png": {
     "image/png": "[encoded data removed]"
    }
   },
   "cell_type": "markdown",
   "id": "3e0a179e",
   "metadata": {
    "papermill": {
     "duration": 0.015983,
     "end_time": "2023-03-29T11:03:09.987285",
     "exception": false,
     "start_time": "2023-03-29T11:03:09.971302",
     "status": "completed"
    },
    "tags": []
   },
   "source": [
    "If we want to create a new list based on any condition, we can use the list comprehension with the format:\n",
    "\n",
    "![image.png](attachment:f7779597-ae9d-4da5-b538-3a538c9af085.png)\n",
    "\n",
    "For example, we have to create a new list of even integers from the above list, it can be done by using the below formula."
   ]
  },
  {
   "cell_type": "code",
   "execution_count": 18,
   "id": "65320ee7",
   "metadata": {
    "execution": {
     "iopub.execute_input": "2023-03-29T11:03:10.021416Z",
     "iopub.status.busy": "2023-03-29T11:03:10.020921Z",
     "iopub.status.idle": "2023-03-29T11:03:10.027605Z",
     "shell.execute_reply": "2023-03-29T11:03:10.026455Z"
    },
    "papermill": {
     "duration": 0.027003,
     "end_time": "2023-03-29T11:03:10.030016",
     "exception": false,
     "start_time": "2023-03-29T11:03:10.003013",
     "status": "completed"
    },
    "tags": []
   },
   "outputs": [
    {
     "name": "stdout",
     "output_type": "stream",
     "text": [
      "New List of Even Integers :  [0, 2, 4, 6, 8]\n"
     ]
    }
   ],
   "source": [
    "new_list = [element for element in mylist if element%2 == 0]\n",
    "print(\"New List of Even Integers : \", new_list)"
   ]
  },
  {
   "cell_type": "markdown",
   "id": "9043670a",
   "metadata": {
    "papermill": {
     "duration": 0.014913,
     "end_time": "2023-03-29T11:03:10.061111",
     "exception": false,
     "start_time": "2023-03-29T11:03:10.046198",
     "status": "completed"
    },
    "tags": []
   },
   "source": [
    "<a id=\"3\"></a> <br>\n",
    "#  3. Dictionary"
   ]
  },
  {
   "cell_type": "markdown",
   "id": "136c5b9f",
   "metadata": {
    "papermill": {
     "duration": 0.014965,
     "end_time": "2023-03-29T11:03:10.091230",
     "exception": false,
     "start_time": "2023-03-29T11:03:10.076265",
     "status": "completed"
    },
    "tags": []
   },
   "source": [
    "A dictionary is a collection of key-value pairs, where each key is unique and mapped to a corresponding value. Dictionaries are denoted by **curly braces { }**, dictionary belongs to \n",
    "<class 'dict'> and each **key-value pair** is separated by a colon.  "
   ]
  },
  {
   "cell_type": "markdown",
   "id": "36b29fe6",
   "metadata": {
    "papermill": {
     "duration": 0.014918,
     "end_time": "2023-03-29T11:03:10.121298",
     "exception": false,
     "start_time": "2023-03-29T11:03:10.106380",
     "status": "completed"
    },
    "tags": []
   },
   "source": [
    "<a id=\"3.1\"></a> <br>\n",
    "##  3.1. Accessing Dictionary Elements\n",
    "\n",
    "The keys in a dictionary must be unique and immutable (e.g. strings, numbers, and tuples) while the values can be of any data type. While the list element is accessed using indices, the dictionary elements are accessed using the keys, not the indices"
   ]
  },
  {
   "cell_type": "code",
   "execution_count": 19,
   "id": "a456c45c",
   "metadata": {
    "execution": {
     "iopub.execute_input": "2023-03-29T11:03:10.155077Z",
     "iopub.status.busy": "2023-03-29T11:03:10.154672Z",
     "iopub.status.idle": "2023-03-29T11:03:10.163326Z",
     "shell.execute_reply": "2023-03-29T11:03:10.161340Z"
    },
    "papermill": {
     "duration": 0.027783,
     "end_time": "2023-03-29T11:03:10.165460",
     "exception": false,
     "start_time": "2023-03-29T11:03:10.137677",
     "status": "completed"
    },
    "tags": []
   },
   "outputs": [
    {
     "name": "stdout",
     "output_type": "stream",
     "text": [
      "First element of fruit_list - ['Apple', 'Mangoes', 'Banana', 'Strawberry', 'Pineapple']  is : Apple\n",
      "Value of key Apple in the  {'Apple': 190, 'Mangoes': 186, 'Banana': 192, 'Strawberry': 116, 'Pineapple': 194} is : 190\n"
     ]
    }
   ],
   "source": [
    "import random\n",
    "\n",
    "fruit_list = ['Apple', 'Mangoes', 'Banana', 'Strawberry', 'Pineapple']\n",
    "print(f\"First element of fruit_list - {fruit_list}  is :\", fruit_list[0])\n",
    "fruit_dict = {}\n",
    "\n",
    "for element in fruit_list:\n",
    "    fruit_dict[element] = random.randint(100, 200)\n",
    "print(f\"Value of key Apple in the  {fruit_dict} is :\", fruit_dict['Apple'])"
   ]
  },
  {
   "cell_type": "markdown",
   "id": "1479faad",
   "metadata": {
    "papermill": {
     "duration": 0.015624,
     "end_time": "2023-03-29T11:03:10.197019",
     "exception": false,
     "start_time": "2023-03-29T11:03:10.181395",
     "status": "completed"
    },
    "tags": []
   },
   "source": [
    "By using keys() we can get all keys of the dictionary"
   ]
  },
  {
   "cell_type": "code",
   "execution_count": 20,
   "id": "893aa689",
   "metadata": {
    "execution": {
     "iopub.execute_input": "2023-03-29T11:03:10.230910Z",
     "iopub.status.busy": "2023-03-29T11:03:10.230537Z",
     "iopub.status.idle": "2023-03-29T11:03:10.236667Z",
     "shell.execute_reply": "2023-03-29T11:03:10.234656Z"
    },
    "papermill": {
     "duration": 0.026579,
     "end_time": "2023-03-29T11:03:10.239144",
     "exception": false,
     "start_time": "2023-03-29T11:03:10.212565",
     "status": "completed"
    },
    "tags": []
   },
   "outputs": [
    {
     "name": "stdout",
     "output_type": "stream",
     "text": [
      "All Keys of fruit_dicts are :  dict_keys(['Apple', 'Mangoes', 'Banana', 'Strawberry', 'Pineapple'])\n"
     ]
    }
   ],
   "source": [
    "print(\"All Keys of fruit_dicts are : \", fruit_dict.keys())"
   ]
  },
  {
   "cell_type": "markdown",
   "id": "0b3537b8",
   "metadata": {
    "papermill": {
     "duration": 0.015499,
     "end_time": "2023-03-29T11:03:10.270895",
     "exception": false,
     "start_time": "2023-03-29T11:03:10.255396",
     "status": "completed"
    },
    "tags": []
   },
   "source": [
    "<a id=\"3.2\"></a> <br>\n",
    "##  3.2. Adding new (key, value) pair\n",
    "\n",
    "A new key-value pair can be added to the dictionary **by assigning a new key with a value**. For example, if we want to add Grapes to fruit_dict, it can be done as below :\n",
    "\n"
   ]
  },
  {
   "cell_type": "code",
   "execution_count": 21,
   "id": "c64debce",
   "metadata": {
    "execution": {
     "iopub.execute_input": "2023-03-29T11:03:10.305147Z",
     "iopub.status.busy": "2023-03-29T11:03:10.304089Z",
     "iopub.status.idle": "2023-03-29T11:03:10.309568Z",
     "shell.execute_reply": "2023-03-29T11:03:10.308398Z"
    },
    "papermill": {
     "duration": 0.026012,
     "end_time": "2023-03-29T11:03:10.312772",
     "exception": false,
     "start_time": "2023-03-29T11:03:10.286760",
     "status": "completed"
    },
    "tags": []
   },
   "outputs": [
    {
     "name": "stdout",
     "output_type": "stream",
     "text": [
      "New fruit_dict is: {'Apple': 190, 'Mangoes': 186, 'Banana': 192, 'Strawberry': 116, 'Pineapple': 194, 'Grapes': 99}\n"
     ]
    }
   ],
   "source": [
    "fruit_dict['Grapes'] = 99\n",
    "print(\"New fruit_dict is:\", fruit_dict)"
   ]
  },
  {
   "cell_type": "markdown",
   "id": "7d80aeda",
   "metadata": {
    "papermill": {
     "duration": 0.01695,
     "end_time": "2023-03-29T11:03:10.347084",
     "exception": false,
     "start_time": "2023-03-29T11:03:10.330134",
     "status": "completed"
    },
    "tags": []
   },
   "source": [
    "<a id=\"3.3\"></a> <br>\n",
    "##  3.3. Updating Existing Value for a key\n",
    "\n",
    "\n",
    "For updating the existing value, we just new to assign the new value to the key, like when we add the new key-value pair."
   ]
  },
  {
   "cell_type": "code",
   "execution_count": 22,
   "id": "a15b08b6",
   "metadata": {
    "execution": {
     "iopub.execute_input": "2023-03-29T11:03:10.384127Z",
     "iopub.status.busy": "2023-03-29T11:03:10.383530Z",
     "iopub.status.idle": "2023-03-29T11:03:10.392191Z",
     "shell.execute_reply": "2023-03-29T11:03:10.389761Z"
    },
    "papermill": {
     "duration": 0.031485,
     "end_time": "2023-03-29T11:03:10.395999",
     "exception": false,
     "start_time": "2023-03-29T11:03:10.364514",
     "status": "completed"
    },
    "tags": []
   },
   "outputs": [
    {
     "name": "stdout",
     "output_type": "stream",
     "text": [
      "New fruit_dict is: {'Apple': 190, 'Mangoes': 200, 'Banana': 192, 'Strawberry': 116, 'Pineapple': 194, 'Grapes': 99}\n"
     ]
    }
   ],
   "source": [
    "fruit_dict['Mangoes'] = 200\n",
    "print(\"New fruit_dict is:\", fruit_dict)"
   ]
  },
  {
   "cell_type": "markdown",
   "id": "6b0c4e5c",
   "metadata": {
    "papermill": {
     "duration": 0.016074,
     "end_time": "2023-03-29T11:03:10.430179",
     "exception": false,
     "start_time": "2023-03-29T11:03:10.414105",
     "status": "completed"
    },
    "tags": []
   },
   "source": [
    "<a id=\"3.4\"></a> <br>\n",
    "##  3.4. Removing Key-Value Pairs\n",
    "\n",
    "A key-value pair can be removed from the dictionary, either using the:\n",
    " * del keyword \n",
    " * pop(). \n",
    " \n",
    " For example, if we want to remove grapes, then it can be done as:\n",
    " \n",
    "with del keyword \n",
    " "
   ]
  },
  {
   "cell_type": "code",
   "execution_count": 23,
   "id": "4ee22c06",
   "metadata": {
    "execution": {
     "iopub.execute_input": "2023-03-29T11:03:10.464818Z",
     "iopub.status.busy": "2023-03-29T11:03:10.464432Z",
     "iopub.status.idle": "2023-03-29T11:03:10.471287Z",
     "shell.execute_reply": "2023-03-29T11:03:10.469595Z"
    },
    "papermill": {
     "duration": 0.027114,
     "end_time": "2023-03-29T11:03:10.474059",
     "exception": false,
     "start_time": "2023-03-29T11:03:10.446945",
     "status": "completed"
    },
    "tags": []
   },
   "outputs": [
    {
     "name": "stdout",
     "output_type": "stream",
     "text": [
      "New fruit_dict is: {'Apple': 190, 'Mangoes': 200, 'Banana': 192, 'Strawberry': 116, 'Pineapple': 194}\n"
     ]
    }
   ],
   "source": [
    "del(fruit_dict['Grapes'])\n",
    "print(\"New fruit_dict is:\", fruit_dict)\n"
   ]
  },
  {
   "cell_type": "markdown",
   "id": "799304f2",
   "metadata": {
    "papermill": {
     "duration": 0.016251,
     "end_time": "2023-03-29T11:03:10.507796",
     "exception": false,
     "start_time": "2023-03-29T11:03:10.491545",
     "status": "completed"
    },
    "tags": []
   },
   "source": [
    "with pop() removing \"Banana\""
   ]
  },
  {
   "cell_type": "code",
   "execution_count": 24,
   "id": "8b09ca9f",
   "metadata": {
    "execution": {
     "iopub.execute_input": "2023-03-29T11:03:10.543252Z",
     "iopub.status.busy": "2023-03-29T11:03:10.542197Z",
     "iopub.status.idle": "2023-03-29T11:03:10.547949Z",
     "shell.execute_reply": "2023-03-29T11:03:10.546947Z"
    },
    "papermill": {
     "duration": 0.026807,
     "end_time": "2023-03-29T11:03:10.551265",
     "exception": false,
     "start_time": "2023-03-29T11:03:10.524458",
     "status": "completed"
    },
    "tags": []
   },
   "outputs": [
    {
     "name": "stdout",
     "output_type": "stream",
     "text": [
      "New fruit_dict is: {'Apple': 190, 'Mangoes': 200, 'Strawberry': 116, 'Pineapple': 194}\n"
     ]
    }
   ],
   "source": [
    "fruit_dict.pop(\"Banana\")\n",
    "print(\"New fruit_dict is:\", fruit_dict)"
   ]
  },
  {
   "cell_type": "markdown",
   "id": "aa337c10",
   "metadata": {
    "papermill": {
     "duration": 0.015531,
     "end_time": "2023-03-29T11:03:10.583119",
     "exception": false,
     "start_time": "2023-03-29T11:03:10.567588",
     "status": "completed"
    },
    "tags": []
   },
   "source": [
    "<a id=\"3.5\"></a> <br>\n",
    "##  3.5. Sorting\n",
    "\n",
    "\n",
    "In a dictionary key or value can be sorted ascending or descending using sorted().\n",
    "\n",
    "Sorting Keys in Ascending\n",
    "The dictionary can be sorted by its keys, you can use the sorted() function with the key argument set to lambda x: x[0], and values can be sorted with lambda x: x[1]"
   ]
  },
  {
   "cell_type": "code",
   "execution_count": 25,
   "id": "1e21472e",
   "metadata": {
    "execution": {
     "iopub.execute_input": "2023-03-29T11:03:10.617679Z",
     "iopub.status.busy": "2023-03-29T11:03:10.617290Z",
     "iopub.status.idle": "2023-03-29T11:03:10.624996Z",
     "shell.execute_reply": "2023-03-29T11:03:10.623158Z"
    },
    "papermill": {
     "duration": 0.028435,
     "end_time": "2023-03-29T11:03:10.627576",
     "exception": false,
     "start_time": "2023-03-29T11:03:10.599141",
     "status": "completed"
    },
    "tags": []
   },
   "outputs": [
    {
     "name": "stdout",
     "output_type": "stream",
     "text": [
      "sorted_key_dict is :  {'Apple': 105, 'Banana': 131, 'Grapes': 99, 'Mangoes': 142, 'Pineapple': 121, 'Strawberry': 184}\n"
     ]
    }
   ],
   "source": [
    "fruit_dict = {'Apple': 105, 'Mangoes': 142, 'Banana': 131, 'Strawberry': 184, 'Pineapple': 121, 'Grapes': 99}\n",
    "sorted_key_dict = dict(sorted(fruit_dict.items(), key=lambda x: x[0]))\n",
    "print(\"sorted_key_dict is : \", sorted_key_dict)"
   ]
  },
  {
   "cell_type": "markdown",
   "id": "db18df70",
   "metadata": {
    "papermill": {
     "duration": 0.016684,
     "end_time": "2023-03-29T11:03:10.662396",
     "exception": false,
     "start_time": "2023-03-29T11:03:10.645712",
     "status": "completed"
    },
    "tags": []
   },
   "source": [
    "## Sorting Values in Ascending\n",
    "\n"
   ]
  },
  {
   "cell_type": "code",
   "execution_count": 26,
   "id": "1a174ea8",
   "metadata": {
    "execution": {
     "iopub.execute_input": "2023-03-29T11:03:10.697250Z",
     "iopub.status.busy": "2023-03-29T11:03:10.696874Z",
     "iopub.status.idle": "2023-03-29T11:03:10.702596Z",
     "shell.execute_reply": "2023-03-29T11:03:10.701445Z"
    },
    "papermill": {
     "duration": 0.026424,
     "end_time": "2023-03-29T11:03:10.705703",
     "exception": false,
     "start_time": "2023-03-29T11:03:10.679279",
     "status": "completed"
    },
    "tags": []
   },
   "outputs": [
    {
     "name": "stdout",
     "output_type": "stream",
     "text": [
      "sorted_value_dict is :  {'Grapes': 99, 'Apple': 105, 'Pineapple': 121, 'Banana': 131, 'Mangoes': 142, 'Strawberry': 184}\n"
     ]
    }
   ],
   "source": [
    "sorted_value_dict = dict(sorted(fruit_dict.items(), key=lambda x: x[1]))\n",
    "print(\"sorted_value_dict is : \", sorted_value_dict)"
   ]
  },
  {
   "cell_type": "markdown",
   "id": "50a59787",
   "metadata": {
    "papermill": {
     "duration": 0.021718,
     "end_time": "2023-03-29T11:03:10.745551",
     "exception": false,
     "start_time": "2023-03-29T11:03:10.723833",
     "status": "completed"
    },
    "tags": []
   },
   "source": [
    "## Sorting in Descending:\n",
    "\n",
    "By setting reverse as True, the keys or values can be sorted in descending order."
   ]
  },
  {
   "cell_type": "code",
   "execution_count": 27,
   "id": "ef57f076",
   "metadata": {
    "execution": {
     "iopub.execute_input": "2023-03-29T11:03:10.782776Z",
     "iopub.status.busy": "2023-03-29T11:03:10.782217Z",
     "iopub.status.idle": "2023-03-29T11:03:10.789693Z",
     "shell.execute_reply": "2023-03-29T11:03:10.788457Z"
    },
    "papermill": {
     "duration": 0.028609,
     "end_time": "2023-03-29T11:03:10.792260",
     "exception": false,
     "start_time": "2023-03-29T11:03:10.763651",
     "status": "completed"
    },
    "tags": []
   },
   "outputs": [
    {
     "name": "stdout",
     "output_type": "stream",
     "text": [
      "sorted_key_dict in descending order is :  {'Strawberry': 184, 'Pineapple': 121, 'Mangoes': 142, 'Grapes': 99, 'Banana': 131, 'Apple': 105}\n",
      "sorted_value_dict in descending order is :  {'Strawberry': 184, 'Mangoes': 142, 'Banana': 131, 'Pineapple': 121, 'Apple': 105, 'Grapes': 99}\n"
     ]
    }
   ],
   "source": [
    "sorted_key_dict = dict(sorted(fruit_dict.items(), key=lambda x: x[0], reverse=True))\n",
    "print(\"sorted_key_dict in descending order is : \", sorted_key_dict)\n",
    "sorted_value_dict = dict(sorted(fruit_dict.items(), key=lambda x: x[1], reverse=True))\n",
    "print(\"sorted_value_dict in descending order is : \", sorted_value_dict)"
   ]
  },
  {
   "cell_type": "markdown",
   "id": "5c5276b7",
   "metadata": {
    "papermill": {
     "duration": 0.016409,
     "end_time": "2023-03-29T11:03:10.829609",
     "exception": false,
     "start_time": "2023-03-29T11:03:10.813200",
     "status": "completed"
    },
    "tags": []
   },
   "source": [
    "Sorting in Descending:\n",
    "By setting reverse as True, the keys or values can be sorted in descending order."
   ]
  },
  {
   "cell_type": "markdown",
   "id": "bf44269d",
   "metadata": {
    "papermill": {
     "duration": 0.018763,
     "end_time": "2023-03-29T11:03:10.866195",
     "exception": false,
     "start_time": "2023-03-29T11:03:10.847432",
     "status": "completed"
    },
    "tags": []
   },
   "source": [
    "<a id=\"3.6\"></a> <br>\n",
    "##  3.6. Dictionary Comprehension\n",
    "\n",
    "\n",
    "Dictionary comprehension, like list comprehension, is a very effective method to create a dictionary from a list or from an existing dictionary based on the values.\n",
    "\n",
    "If I have a fruit list If I want to create a dictionary with the key as fruit_list element and value a random integer between 200 and 300, then I can create it without dictionary comprehension as below.\n",
    "\n",
    "fruit_list = ['Apple', 'Mangoes', 'Banana', 'Strawberry', 'Pineapple']"
   ]
  },
  {
   "cell_type": "code",
   "execution_count": 28,
   "id": "00ea5358",
   "metadata": {
    "execution": {
     "iopub.execute_input": "2023-03-29T11:03:10.902250Z",
     "iopub.status.busy": "2023-03-29T11:03:10.901701Z",
     "iopub.status.idle": "2023-03-29T11:03:10.910094Z",
     "shell.execute_reply": "2023-03-29T11:03:10.907677Z"
    },
    "papermill": {
     "duration": 0.030337,
     "end_time": "2023-03-29T11:03:10.913544",
     "exception": false,
     "start_time": "2023-03-29T11:03:10.883207",
     "status": "completed"
    },
    "tags": []
   },
   "outputs": [
    {
     "name": "stdout",
     "output_type": "stream",
     "text": [
      "fruit_dict is :  {'Apple': 222, 'Mangoes': 251, 'Banana': 222, 'Strawberry': 258, 'Pineapple': 244}\n"
     ]
    }
   ],
   "source": [
    "import random\n",
    "\n",
    "fruit_list = ['Apple', 'Mangoes', 'Banana', 'Strawberry', 'Pineapple']\n",
    "fruit_dict = {}\n",
    "\n",
    "for item in fruit_list:\n",
    "    fruit_dict[item] = random.randint(200, 300)\n",
    "\n",
    "print(\"fruit_dict is : \", fruit_dict)"
   ]
  },
  {
   "attachments": {
    "349aadbf-1071-4e1e-bb51-19bdf839d2c0.png": {
     "image/png": "[encoded data removed]"
    }
   },
   "cell_type": "markdown",
   "id": "7da73ca3",
   "metadata": {
    "papermill": {
     "duration": 0.016164,
     "end_time": "2023-03-29T11:03:10.949002",
     "exception": false,
     "start_time": "2023-03-29T11:03:10.932838",
     "status": "completed"
    },
    "tags": []
   },
   "source": [
    "But when we use dictionary comprehension, we can replace the for loop with one line of code in the below format.\n",
    "\n",
    "![image.png](attachment:349aadbf-1071-4e1e-bb51-19bdf839d2c0.png)"
   ]
  },
  {
   "cell_type": "code",
   "execution_count": 29,
   "id": "642eee52",
   "metadata": {
    "execution": {
     "iopub.execute_input": "2023-03-29T11:03:10.983222Z",
     "iopub.status.busy": "2023-03-29T11:03:10.982853Z",
     "iopub.status.idle": "2023-03-29T11:03:10.989381Z",
     "shell.execute_reply": "2023-03-29T11:03:10.987488Z"
    },
    "papermill": {
     "duration": 0.026677,
     "end_time": "2023-03-29T11:03:10.992151",
     "exception": false,
     "start_time": "2023-03-29T11:03:10.965474",
     "status": "completed"
    },
    "tags": []
   },
   "outputs": [
    {
     "name": "stdout",
     "output_type": "stream",
     "text": [
      "fruit_dict with dict comprehension is :  {'Apple': 213, 'Mangoes': 230, 'Banana': 245, 'Strawberry': 274, 'Pineapple': 219}\n"
     ]
    }
   ],
   "source": [
    "fruit_list = ['Apple', 'Mangoes', 'Banana', 'Strawberry', 'Pineapple']\n",
    "\n",
    "fruit_dict = {element:random.randint(200,300) for element in fruit_list}\n",
    "print(\"fruit_dict with dict comprehension is : \", fruit_dict)"
   ]
  },
  {
   "cell_type": "markdown",
   "id": "111c7adc",
   "metadata": {
    "papermill": {
     "duration": 0.016069,
     "end_time": "2023-03-29T11:03:11.024886",
     "exception": false,
     "start_time": "2023-03-29T11:03:11.008817",
     "status": "completed"
    },
    "tags": []
   },
   "source": [
    "Note the value for dictionary keys will be different from the previous one, as the value is created randomly.\n",
    "\n",
    "If we want to create a new dictionary from the above fruit_dict, if fruit values are above 250, without dictionary comprehension we can do with the below code."
   ]
  },
  {
   "cell_type": "code",
   "execution_count": 30,
   "id": "0215e5af",
   "metadata": {
    "execution": {
     "iopub.execute_input": "2023-03-29T11:03:11.060871Z",
     "iopub.status.busy": "2023-03-29T11:03:11.060489Z",
     "iopub.status.idle": "2023-03-29T11:03:11.067348Z",
     "shell.execute_reply": "2023-03-29T11:03:11.066518Z"
    },
    "papermill": {
     "duration": 0.029541,
     "end_time": "2023-03-29T11:03:11.070633",
     "exception": false,
     "start_time": "2023-03-29T11:03:11.041092",
     "status": "completed"
    },
    "tags": []
   },
   "outputs": [
    {
     "name": "stdout",
     "output_type": "stream",
     "text": [
      "Original fruit dict ['Apple', 'Mangoes', 'Banana', 'Strawberry', 'Pineapple']\n",
      "new_dict {'Apple': 276, 'Banana': 298, 'Pineapple': 297}\n"
     ]
    }
   ],
   "source": [
    "fruit_dict = {\n",
    "    'Apple': 276,\n",
    "    'Mangoes': 210,\n",
    "    'Banana': 298,\n",
    "    'Strawberry': 249,\n",
    "    'Pineapple': 297\n",
    "}\n",
    "\n",
    "print(\"Original fruit dict\", fruit_list)\n",
    "new_dict = {}\n",
    "for key, value in fruit_dict.items():\n",
    "    if value > 250:\n",
    "        new_dict[key] = value\n",
    "\n",
    "print(\"new_dict\", new_dict)"
   ]
  },
  {
   "attachments": {
    "461b0d08-62b3-4def-94ed-4bae84f34639.png": {
     "image/png": "[encoded data removed]"
    }
   },
   "cell_type": "markdown",
   "id": "b3aa8eaf",
   "metadata": {
    "papermill": {
     "duration": 0.01698,
     "end_time": "2023-03-29T11:03:11.105793",
     "exception": false,
     "start_time": "2023-03-29T11:03:11.088813",
     "status": "completed"
    },
    "tags": []
   },
   "source": [
    "Here also by using dictionary comprehension, we can remove the for loop, and the syntax for dictionary comprehension for conditions will be as below.\n",
    "\n",
    "![image.png](attachment:461b0d08-62b3-4def-94ed-4bae84f34639.png)"
   ]
  },
  {
   "cell_type": "code",
   "execution_count": 31,
   "id": "fc021edf",
   "metadata": {
    "execution": {
     "iopub.execute_input": "2023-03-29T11:03:11.140541Z",
     "iopub.status.busy": "2023-03-29T11:03:11.140106Z",
     "iopub.status.idle": "2023-03-29T11:03:11.147373Z",
     "shell.execute_reply": "2023-03-29T11:03:11.145921Z"
    },
    "papermill": {
     "duration": 0.027894,
     "end_time": "2023-03-29T11:03:11.150099",
     "exception": false,
     "start_time": "2023-03-29T11:03:11.122205",
     "status": "completed"
    },
    "tags": []
   },
   "outputs": [
    {
     "name": "stdout",
     "output_type": "stream",
     "text": [
      "new_dict with dict comprehension is :\n",
      " {'Apple': 276, 'Banana': 298, 'Pineapple': 297}\n"
     ]
    }
   ],
   "source": [
    "new_dict = {key:value for (key, value) in fruit_dict.items() if value > 250}\n",
    "\n",
    "print(\"new_dict with dict comprehension is :\\n\", new_dict)"
   ]
  },
  {
   "cell_type": "markdown",
   "id": "b1ee6aff",
   "metadata": {
    "papermill": {
     "duration": 0.016154,
     "end_time": "2023-03-29T11:03:11.183061",
     "exception": false,
     "start_time": "2023-03-29T11:03:11.166907",
     "status": "completed"
    },
    "tags": []
   },
   "source": [
    "We can also create new values or new keys to the new dictionary using dictionary comprehension. For example, if we want to change the fruits to upper case and add 100 to the value if the fruit is Mangoes or Strawberry"
   ]
  },
  {
   "cell_type": "code",
   "execution_count": 32,
   "id": "0597c5cc",
   "metadata": {
    "execution": {
     "iopub.execute_input": "2023-03-29T11:03:11.218213Z",
     "iopub.status.busy": "2023-03-29T11:03:11.217844Z",
     "iopub.status.idle": "2023-03-29T11:03:11.225508Z",
     "shell.execute_reply": "2023-03-29T11:03:11.223944Z"
    },
    "papermill": {
     "duration": 0.028255,
     "end_time": "2023-03-29T11:03:11.228018",
     "exception": false,
     "start_time": "2023-03-29T11:03:11.199763",
     "status": "completed"
    },
    "tags": []
   },
   "outputs": [
    {
     "name": "stdout",
     "output_type": "stream",
     "text": [
      "new_dict is  {'MANGOES': 310, 'STRAWBERRY': 349}\n"
     ]
    }
   ],
   "source": [
    "new_dict = {key.upper():value + 100 for (key, value) in fruit_dict.items() if key == 'Mangoes' or key == 'Strawberry'}\n",
    "\n",
    "print(\"new_dict is \", new_dict)"
   ]
  }
 ],
 "metadata": {
  "kernelspec": {
   "display_name": "Python 3",
   "language": "python",
   "name": "python3"
  },
  "language_info": {
   "codemirror_mode": {
    "name": "ipython",
    "version": 3
   },
   "file_extension": ".py",
   "mimetype": "text/x-python",
   "name": "python",
   "nbconvert_exporter": "python",
   "pygments_lexer": "ipython3",
   "version": "3.7.12"
  },
  "papermill": {
   "default_parameters": {},
   "duration": 17.312534,
   "end_time": "2023-03-29T11:03:13.933857",
   "environment_variables": {},
   "exception": null,
   "input_path": "__notebook__.ipynb",
   "output_path": "__notebook__.ipynb",
   "parameters": {},
   "start_time": "2023-03-29T11:02:56.621323",
   "version": "2.4.0"
  }
 },
 "nbformat": 4,
 "nbformat_minor": 5
}
