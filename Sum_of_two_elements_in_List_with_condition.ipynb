{
  "nbformat": 4,
  "nbformat_minor": 0,
  "metadata": {
    "colab": {
      "provenance": [],
      "authorship_tag": "ABX9TyPLqclPi1b5PlFA6I4b2X2X",
      "include_colab_link": true
    },
    "kernelspec": {
      "name": "python3",
      "display_name": "Python 3"
    },
    "language_info": {
      "name": "python"
    }
  },
  "cells": [
    {
      "cell_type": "markdown",
      "metadata": {
        "id": "view-in-github",
        "colab_type": "text"
      },
      "source": [
        "<a href=\"https://colab.research.google.com/github/SandKrish/Python-Scripts/blob/main/Sum_of_two_elements_in_List_with_condition.ipynb\" target=\"_parent\"><img src=\"https://colab.research.google.com/assets/colab-badge.svg\" alt=\"Open In Colab\"/></a>"
      ]
    },
    {
      "cell_type": "markdown",
      "source": [
        "Given an array of integers nums and an integer target, return indices of the two numbers such that they add up to target.\n",
        "\n",
        "Input: nums = [2,7,11,15]\n",
        "\n",
        "target = 9\n",
        "\n",
        "Output: [0,1]\n",
        "\n",
        "Explanation: Because nums[0] + nums[1] == 9, we return [0, 1]."
      ],
      "metadata": {
        "id": "XeQfbY2fGI0u"
      }
    },
    {
      "cell_type": "code",
      "source": [
        "class Solution(object):\n",
        "    def twoSum(self, nums, target):\n",
        "        \"\"\"\n",
        "        :type nums: List[int]\n",
        "        :type target: int\n",
        "        :rtype: List[int]\n",
        "        \"\"\"\n",
        "        temp = list(nums);\n",
        "        out=0;output_list= []; \n",
        "        \n",
        "        for i in range(0,len(nums)):\n",
        "            temp_list=[]\n",
        "            if i != len(nums):\n",
        "                \n",
        "                temp_list.append(nums[i]);temp.remove(nums[i])\n",
        "                for j in range(0,len(temp)):\n",
        "                    if temp_list[0]+temp[j]==target:\n",
        "                        temp_list.append(temp[j])\n",
        "                        j =len(temp)\n",
        "                        #print('here',temp_list,target)\n",
        "                        out_list = [nums.index(temp_list[0])]\n",
        "                        nums.remove(temp_list[0])\n",
        "                        out_list.append(nums.index(temp_list[1])+1)\n",
        "                        \n",
        "                        return out_list\n",
        "                      \n"
      ],
      "metadata": {
        "id": "-XU03PRK3v2j"
      },
      "execution_count": 1,
      "outputs": []
    },
    {
      "cell_type": "code",
      "source": [
        "objindexlist = Solution()"
      ],
      "metadata": {
        "id": "vhFBM0oKFD-s"
      },
      "execution_count": 2,
      "outputs": []
    },
    {
      "cell_type": "code",
      "source": [
        "objindexlist.twoSum([3,3],6)"
      ],
      "metadata": {
        "colab": {
          "base_uri": "https://localhost:8080/"
        },
        "id": "-Vv0YiykFG9E",
        "outputId": "ac5e1b38-7222-4b18-c283-eff78e346d4a"
      },
      "execution_count": 3,
      "outputs": [
        {
          "output_type": "execute_result",
          "data": {
            "text/plain": [
              "[0, 1]"
            ]
          },
          "metadata": {},
          "execution_count": 3
        }
      ]
    },
    {
      "cell_type": "code",
      "source": [
        "objindexlist.twoSum([2,15,5,22],7)"
      ],
      "metadata": {
        "colab": {
          "base_uri": "https://localhost:8080/"
        },
        "id": "bdfnlFI0FVw1",
        "outputId": "eac240b2-d5c5-4387-8080-64c8440ea17d"
      },
      "execution_count": 4,
      "outputs": [
        {
          "output_type": "execute_result",
          "data": {
            "text/plain": [
              "[0, 2]"
            ]
          },
          "metadata": {},
          "execution_count": 4
        }
      ]
    }
  ]
}