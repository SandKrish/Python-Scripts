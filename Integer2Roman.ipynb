{
  "nbformat": 4,
  "nbformat_minor": 0,
  "metadata": {
    "colab": {
      "provenance": [],
      "authorship_tag": "ABX9TyMd3O2km0SPbAQ55EksvD/Z",
      "include_colab_link": true
    },
    "kernelspec": {
      "name": "python3",
      "display_name": "Python 3"
    },
    "language_info": {
      "name": "python"
    }
  },
  "cells": [
    {
      "cell_type": "markdown",
      "metadata": {
        "id": "view-in-github",
        "colab_type": "text"
      },
      "source": [
        "<a href=\"https://colab.research.google.com/github/SandKrish/Python-Scripts/blob/main/Integer2Roman.ipynb\" target=\"_parent\"><img src=\"https://colab.research.google.com/assets/colab-badge.svg\" alt=\"Open In Colab\"/></a>"
      ]
    },
    {
      "cell_type": "code",
      "source": [
        "class Solution:\n",
        "    def intToRoman(self, num: int) -> str:\n",
        "        rom_vals = ['M', 'CM','D','CD','C','XC','L','XL','X','IX','V','IV','I']\n",
        "        int_vals = [1000,900,500,400, 100,90, 50,40,10,9,5,4,1]\n",
        "        \n",
        "        roman_number =''\n",
        "        i=0\n",
        "        \n",
        "        while(num>0):\n",
        "            \n",
        "            for _ in range(num//int_vals[i]):\n",
        "                roman_number+= rom_vals[i]\n",
        "                num-=int_vals[i]\n",
        "                \n",
        "            i+=1\n",
        "        return roman_number\n",
        "    "
      ],
      "metadata": {
        "id": "E3jk8o8Tjwa2"
      },
      "execution_count": 33,
      "outputs": []
    },
    {
      "cell_type": "code",
      "source": [
        "objintToRoman = Solution()"
      ],
      "metadata": {
        "id": "Q_SnXZAlkNDQ"
      },
      "execution_count": 39,
      "outputs": []
    },
    {
      "cell_type": "code",
      "source": [
        "objintToRoman.intToRoman(449)"
      ],
      "metadata": {
        "colab": {
          "base_uri": "https://localhost:8080/",
          "height": 36
        },
        "id": "7n6cD9DckbyU",
        "outputId": "ae70e5e3-77c9-41c7-e3f8-bc5dcc385c1a"
      },
      "execution_count": 40,
      "outputs": [
        {
          "output_type": "execute_result",
          "data": {
            "text/plain": [
              "'CDXLIX'"
            ],
            "application/vnd.google.colaboratory.intrinsic+json": {
              "type": "string"
            }
          },
          "metadata": {},
          "execution_count": 40
        }
      ]
    }
  ]
}