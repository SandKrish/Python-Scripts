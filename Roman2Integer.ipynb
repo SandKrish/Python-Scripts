{
  "nbformat": 4,
  "nbformat_minor": 0,
  "metadata": {
    "colab": {
      "provenance": [],
      "authorship_tag": "ABX9TyNj6nOlbOHd03Kr06wT0dJo",
      "include_colab_link": true
    },
    "kernelspec": {
      "name": "python3",
      "display_name": "Python 3"
    },
    "language_info": {
      "name": "python"
    }
  },
  "cells": [
    {
      "cell_type": "markdown",
      "metadata": {
        "id": "view-in-github",
        "colab_type": "text"
      },
      "source": [
        "<a href=\"https://colab.research.google.com/github/SandKrish/Python-Scripts/blob/main/Roman2Integer.ipynb\" target=\"_parent\"><img src=\"https://colab.research.google.com/assets/colab-badge.svg\" alt=\"Open In Colab\"/></a>"
      ]
    },
    {
      "cell_type": "code",
      "execution_count": 10,
      "metadata": {
        "id": "IJtnqZ71yuba"
      },
      "outputs": [],
      "source": [
        "class Solution:\n",
        "    def romanToInt(self, s: str) -> int:\n",
        "      roman = {'I':1,'V':5,'X':10,'L':50,'C':100,'D':500,'M':1000,'IV':4,'IX':9,'XL':40,'XC':90,'CD':400,'CM':900}\n",
        "      i = 0\n",
        "      num = 0\n",
        "      while i < len(s):\n",
        "        if i+1<len(s) and s[i:i+2] in roman:\n",
        "          num+=roman[s[i:i+2]]\n",
        "          i+=2\n",
        "        \n",
        "        else:\n",
        "          num+=roman[s[i]]\n",
        "          i+=1\n",
        "      \n",
        "      return num"
      ]
    },
    {
      "cell_type": "code",
      "source": [
        "s = input('enter s :')"
      ],
      "metadata": {
        "colab": {
          "base_uri": "https://localhost:8080/"
        },
        "id": "chi8wbmXz1tl",
        "outputId": "d00c803d-107c-443a-c61c-1dfbed68ddfa"
      },
      "execution_count": 11,
      "outputs": [
        {
          "name": "stdout",
          "output_type": "stream",
          "text": [
            "enter s :MMMXLV\n"
          ]
        }
      ]
    },
    {
      "cell_type": "code",
      "source": [
        "objRoman = Solution()"
      ],
      "metadata": {
        "id": "DXNujDjd1k70"
      },
      "execution_count": 12,
      "outputs": []
    },
    {
      "cell_type": "code",
      "source": [
        "print(\"Roman \", s, \" has an Integer Value of\", objRoman.romanToInt(s))"
      ],
      "metadata": {
        "colab": {
          "base_uri": "https://localhost:8080/"
        },
        "id": "-7vNq9XG0QDX",
        "outputId": "160e6c13-af02-4439-b79f-56a7cef1d706"
      },
      "execution_count": 14,
      "outputs": [
        {
          "output_type": "stream",
          "name": "stdout",
          "text": [
            "Roman  MMMXLV  has an Integer Value of 3045\n"
          ]
        }
      ]
    },
    {
      "cell_type": "code",
      "source": [],
      "metadata": {
        "id": "gwgOx4Oh0sDN"
      },
      "execution_count": null,
      "outputs": []
    }
  ]
}