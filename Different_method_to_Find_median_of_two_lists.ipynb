{
  "nbformat": 4,
  "nbformat_minor": 0,
  "metadata": {
    "colab": {
      "provenance": [],
      "toc_visible": true,
      "authorship_tag": "ABX9TyP2tRVfXMm4UP8+v/evz7Xj",
      "include_colab_link": true
    },
    "kernelspec": {
      "name": "python3",
      "display_name": "Python 3"
    },
    "language_info": {
      "name": "python"
    }
  },
  "cells": [
    {
      "cell_type": "markdown",
      "metadata": {
        "id": "view-in-github",
        "colab_type": "text"
      },
      "source": [
        "<a href=\"https://colab.research.google.com/github/SandKrish/Python-Scripts/blob/main/Different_method_to_Find_median_of_two_lists.ipynb\" target=\"_parent\"><img src=\"https://colab.research.google.com/assets/colab-badge.svg\" alt=\"Open In Colab\"/></a>"
      ]
    },
    {
      "cell_type": "markdown",
      "source": [
        "# Using Python Script"
      ],
      "metadata": {
        "id": "2K2xj8-9jZhN"
      }
    },
    {
      "cell_type": "code",
      "source": [
        "def meidan(list1, list2):\n",
        "  list1=list1+list2\n",
        "  list1.sort()\n",
        "  if(len(list1)%2!=0):\n",
        "    return list1[int((len(list1)+1)/2)-1]\n",
        "  else:\n",
        "    return (list1[int(len(list1)/2)-1]+list1[int(len(list1)/2)])/2"
      ],
      "metadata": {
        "id": "VTOqBHkzh7vf"
      },
      "execution_count": 18,
      "outputs": []
    },
    {
      "cell_type": "code",
      "source": [
        "l1=[2, 15, 4, 8, 9, 7,12]\n",
        "l2=[1, 3, 7, 8, 6]"
      ],
      "metadata": {
        "id": "sn6KWVfciAEo"
      },
      "execution_count": 19,
      "outputs": []
    },
    {
      "cell_type": "code",
      "source": [
        "meidan(l1,l2)"
      ],
      "metadata": {
        "colab": {
          "base_uri": "https://localhost:8080/"
        },
        "id": "HHgg3OC5iBDO",
        "outputId": "e72c7f9b-d294-42d6-d132-6ea76d5ac427"
      },
      "execution_count": 20,
      "outputs": [
        {
          "output_type": "execute_result",
          "data": {
            "text/plain": [
              "7.0"
            ]
          },
          "metadata": {},
          "execution_count": 20
        }
      ]
    },
    {
      "cell_type": "markdown",
      "source": [
        "# Using Numpy"
      ],
      "metadata": {
        "id": "bFK_jO3Djcth"
      }
    },
    {
      "cell_type": "code",
      "source": [
        "import numpy as np"
      ],
      "metadata": {
        "id": "eykjFvJnidIq"
      },
      "execution_count": 21,
      "outputs": []
    },
    {
      "cell_type": "code",
      "source": [
        "l1=[2, 15, 4, 8, 9, 7,12]\n",
        "l2=[1, 3, 7, 8, 6]"
      ],
      "metadata": {
        "id": "5ZF5ZF-gjj3e"
      },
      "execution_count": 23,
      "outputs": []
    },
    {
      "cell_type": "code",
      "source": [
        "l3=l1+l2"
      ],
      "metadata": {
        "id": "sQVjR65jjs5A"
      },
      "execution_count": 26,
      "outputs": []
    },
    {
      "cell_type": "code",
      "source": [
        "np.median(l3)"
      ],
      "metadata": {
        "colab": {
          "base_uri": "https://localhost:8080/"
        },
        "id": "mcEBApUvjfrG",
        "outputId": "956e8001-8a98-48d3-afdc-7b33c4d7a908"
      },
      "execution_count": 27,
      "outputs": [
        {
          "output_type": "execute_result",
          "data": {
            "text/plain": [
              "7.0"
            ]
          },
          "metadata": {},
          "execution_count": 27
        }
      ]
    },
    {
      "cell_type": "markdown",
      "source": [
        "Using Statistics"
      ],
      "metadata": {
        "id": "5m2Eg_33jzsd"
      }
    },
    {
      "cell_type": "code",
      "source": [
        "import statistics as st"
      ],
      "metadata": {
        "id": "EAllWvSOjhle"
      },
      "execution_count": 31,
      "outputs": []
    },
    {
      "cell_type": "code",
      "source": [
        "st.median(l3)"
      ],
      "metadata": {
        "colab": {
          "base_uri": "https://localhost:8080/"
        },
        "id": "zywBBeLBj7qw",
        "outputId": "0b044131-c6e0-4377-9d18-4feb604e12f6"
      },
      "execution_count": 33,
      "outputs": [
        {
          "output_type": "execute_result",
          "data": {
            "text/plain": [
              "7.0"
            ]
          },
          "metadata": {},
          "execution_count": 33
        }
      ]
    }
  ]
}